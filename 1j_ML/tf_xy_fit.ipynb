{
 "cells": [
  {
   "cell_type": "code",
   "execution_count": 2,
   "metadata": {
    "collapsed": false
   },
   "outputs": [
    {
     "name": "stdout",
     "output_type": "stream",
     "text": [
      "0 [ 0.68023217] [-0.04991785]\n",
      "20 [ 0.30141884] [ 0.1858454]\n",
      "40 [ 0.1688471] [ 0.26098076]\n",
      "60 [ 0.12353268] [ 0.28666282]\n",
      "80 [ 0.10804374] [ 0.29544121]\n",
      "100 [ 0.10274943] [ 0.29844177]\n",
      "120 [ 0.10093977] [ 0.29946738]\n",
      "140 [ 0.10032123] [ 0.29981795]\n",
      "160 [ 0.10010981] [ 0.29993778]\n",
      "180 [ 0.10003754] [ 0.29997873]\n",
      "200 [ 0.10001285] [ 0.29999274]\n"
     ]
    }
   ],
   "source": [
    "\"\"\"\n",
    "    tf_xy_fit.py - Yevheniy Chuba - 11/11/2016\n",
    "    Create random data in 2D and fit a line to it using TensorFlow\n",
    "    \n",
    "    Following turorial @:\n",
    "        https://www.tensorflow.org/versions/r0.11/get_started/index.html\n",
    "\"\"\"\n",
    "\n",
    "import tensorflow as tf\n",
    "import numpy as np\n",
    "\n",
    "# Create 100 random x, y data points in NumPy, y = x * 0.1 + 0.3\n",
    "x_data = np.random.rand(100).astype(np.float32)\n",
    "y_data = x_data * 0.1 + 0.3\n",
    "\n",
    "# Try to find values for W and b that compute y_data = W + x_data + b\n",
    "# W and b are known, but we will TensorFlow figure it out\n",
    "W = tf.Variable(tf.random_uniform([1], -1.0, 1.0))\n",
    "b = tf.Variable(tf.zeros([1]))\n",
    "y = W * x_data + b\n",
    "\n",
    "# Minimize the mean squared errors\n",
    "loss = tf.reduce_mean(tf.square(y - y_data))\n",
    "optimizer = tf.train.GradientDescentOptimizer(0.5)\n",
    "train = optimizer.minimize(loss)\n",
    "\n",
    "# Before starting, initialize the variables. We will 'run' this first.\n",
    "init = tf.initialize_all_variables()\n",
    "\n",
    "# Launch the graph.\n",
    "sess = tf.Session()\n",
    "sess.run(init)\n",
    "\n",
    "# Fit the line.\n",
    "for step in range(201):\n",
    "    sess.run(train)\n",
    "    if step % 20 == 0:\n",
    "        print(step, sess.run(W), sess.run(b))"
   ]
  },
  {
   "cell_type": "code",
   "execution_count": null,
   "metadata": {
    "collapsed": true
   },
   "outputs": [],
   "source": []
  }
 ],
 "metadata": {
  "kernelspec": {
   "display_name": "Python 3",
   "language": "python",
   "name": "python3"
  },
  "language_info": {
   "codemirror_mode": {
    "name": "ipython",
    "version": 3
   },
   "file_extension": ".py",
   "mimetype": "text/x-python",
   "name": "python",
   "nbconvert_exporter": "python",
   "pygments_lexer": "ipython3",
   "version": "3.4.3"
  }
 },
 "nbformat": 4,
 "nbformat_minor": 0
}
