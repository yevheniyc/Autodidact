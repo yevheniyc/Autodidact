{
 "cells": [
  {
   "cell_type": "markdown",
   "metadata": {},
   "source": [
    "# Mean, Median, Mode, and introducing NumPy"
   ]
  },
  {
   "cell_type": "markdown",
   "metadata": {},
   "source": [
    "## Mean vs. Median"
   ]
  },
  {
   "cell_type": "markdown",
   "metadata": {},
   "source": [
    "Let's create some fake income data, centered around 27,000 with a normal distribution and standard deviation of 15,000, with 10,000 data points. (We'll discuss those terms more later, if you're not familiar with them.)\n",
    "\n",
    "Then, compute the mean (average) - it should be close to 27,000:"
   ]
  },
  {
   "cell_type": "code",
   "execution_count": 6,
   "metadata": {
    "collapsed": false
   },
   "outputs": [
    {
     "data": {
      "text/plain": [
       "27167.748105995266"
      ]
     },
     "execution_count": 6,
     "metadata": {},
     "output_type": "execute_result"
    }
   ],
   "source": [
    "import numpy as np\n",
    "\n",
    "incomes = np.random.normal(27000, 15000, 10000) # (center around, stdev, population )\n",
    "np.mean(incomes) # calculate mean"
   ]
  },
  {
   "cell_type": "markdown",
   "metadata": {},
   "source": [
    "We can segment the income data into 50 buckets, and plot it as a histogram:"
   ]
  },
  {
   "cell_type": "code",
   "execution_count": 7,
   "metadata": {
    "collapsed": false
   },
   "outputs": [
    {
     "data": {
      "image/png": "[encoded data removed]",
      "text/plain": [
       "<matplotlib.figure.Figure at 0x10a25f358>"
      ]
     },
     "metadata": {},
     "output_type": "display_data"
    }
   ],
   "source": [
    "%matplotlib inline\n",
    "import matplotlib.pyplot as plt\n",
    "# segment the income data into 50 buckets and plot as a histogram\n",
    "plt.hist(incomes, 50)\n",
    "plt.show()"
   ]
  },
  {
   "cell_type": "markdown",
   "metadata": {},
   "source": [
    "Now compute the median - since we have a nice, even distribution it too should be close to 27,000:"
   ]
  },
  {
   "cell_type": "code",
   "execution_count": 8,
   "metadata": {
    "collapsed": false
   },
   "outputs": [
    {
     "data": {
      "text/plain": [
       "27158.483996031824"
      ]
     },
     "execution_count": 8,
     "metadata": {},
     "output_type": "execute_result"
    }
   ],
   "source": [
    "np.median(incomes)"
   ]
  },
  {
   "cell_type": "markdown",
   "metadata": {},
   "source": [
    "Now we'll add Donald Trump into the mix. Darn income inequality!"
   ]
  },
  {
   "cell_type": "code",
   "execution_count": 9,
   "metadata": {
    "collapsed": false
   },
   "outputs": [],
   "source": [
    "# append the value to the end of numpy array\n",
    "incomes = np.append(incomes, [1000000000])"
   ]
  },
  {
   "cell_type": "markdown",
   "metadata": {},
   "source": [
    "The median won't change much, but the mean does:"
   ]
  },
  {
   "cell_type": "code",
   "execution_count": 10,
   "metadata": {
    "collapsed": false
   },
   "outputs": [
    {
     "data": {
      "text/plain": [
       "27162.766950844438"
      ]
     },
     "execution_count": 10,
     "metadata": {},
     "output_type": "execute_result"
    }
   ],
   "source": [
    "np.median(incomes)"
   ]
  },
  {
   "cell_type": "code",
   "execution_count": 12,
   "metadata": {
    "collapsed": false
   },
   "outputs": [
    {
     "data": {
      "text/plain": [
       "127155.03260273499"
      ]
     },
     "execution_count": 12,
     "metadata": {},
     "output_type": "execute_result"
    }
   ],
   "source": [
    "np.mean(incomes) # mean has shifted to the rights"
   ]
  },
  {
   "cell_type": "markdown",
   "metadata": {},
   "source": [
    "## Mode"
   ]
  },
  {
   "cell_type": "markdown",
   "metadata": {},
   "source": [
    "Next, let's generate some fake age data for 500 people:"
   ]
  },
  {
   "cell_type": "code",
   "execution_count": 13,
   "metadata": {
    "collapsed": false
   },
   "outputs": [
    {
     "data": {
      "text/plain": [
       "array([63, 81, 79, 74, 22, 60, 41, 31, 18, 60, 70, 48, 70, 51, 45, 68, 85,\n",
       "       69, 64, 43, 20, 23, 71, 57, 21, 81, 31, 81, 55, 25, 85, 89, 39, 58,\n",
       "       57, 20, 51, 21, 71, 84, 29, 34, 68, 78, 64, 67, 49, 34, 56, 19, 60,\n",
       "       43, 75, 67, 18, 77, 50, 86, 65, 84, 77, 62, 70, 27, 19, 53, 37, 53,\n",
       "       28, 38, 85, 24, 87, 26, 58, 25, 73, 53, 77, 26, 19, 65, 31, 70, 42,\n",
       "       20, 26, 48, 20, 49, 67, 45, 89, 70, 85, 60, 30, 33, 67, 19, 79, 54,\n",
       "       49, 27, 56, 72, 34, 53, 38, 71, 46, 54, 66, 20, 81, 67, 24, 85, 51,\n",
       "       35, 52, 31, 54, 55, 46, 26, 66, 64, 68, 84, 65, 81, 55, 38, 86, 81,\n",
       "       27, 56, 20, 27, 22, 42, 25, 36, 79, 79, 59, 55, 43, 89, 82, 25, 56,\n",
       "       83, 59, 75, 65, 72, 87, 59, 51, 40, 76, 69, 60, 66, 58, 68, 72, 29,\n",
       "       48, 19, 82, 33, 65, 60, 47, 51, 61, 77, 84, 67, 54, 67, 43, 27, 20,\n",
       "       63, 86, 76, 85, 31, 84, 82, 61, 83, 25, 59, 20, 22, 35, 53, 37, 36,\n",
       "       85, 53, 70, 46, 81, 28, 50, 31, 38, 48, 85, 80, 61, 35, 22, 81, 36,\n",
       "       70, 79, 38, 82, 67, 77, 40, 25, 53, 82, 88, 58, 21, 61, 34, 85, 63,\n",
       "       58, 77, 77, 30, 35, 74, 42, 72, 57, 32, 58, 41, 44, 73, 44, 39, 87,\n",
       "       40, 52, 52, 76, 73, 88, 70, 77, 39, 44, 28, 72, 38, 57, 21, 50, 77,\n",
       "       82, 72, 79, 50, 26, 72, 34, 38, 75, 43, 85, 80, 64, 56, 79, 67, 53,\n",
       "       36, 64, 74, 48, 58, 35, 18, 62, 39, 23, 42, 42, 19, 84, 45, 44, 29,\n",
       "       50, 19, 85, 86, 47, 26, 53, 61, 85, 22, 67, 37, 66, 31, 30, 39, 36,\n",
       "       26, 83, 37, 61, 87, 69, 57, 40, 35, 26, 85, 73, 56, 42, 22, 65, 44,\n",
       "       76, 33, 37, 60, 63, 39, 37, 83, 86, 84, 25, 43, 75, 52, 69, 26, 42,\n",
       "       35, 46, 63, 72, 32, 63, 82, 67, 50, 56, 83, 36, 74, 73, 65, 56, 79,\n",
       "       84, 62, 23, 89, 68, 61, 47, 70, 27, 81, 23, 79, 20, 46, 59, 61, 20,\n",
       "       83, 84, 52, 37, 67, 28, 75, 25, 74, 47, 67, 76, 75, 35, 80, 39, 41,\n",
       "       88, 42, 39, 63, 79, 71, 43, 35, 86, 68, 69, 75, 54, 78, 59, 57, 60,\n",
       "       49, 68, 40, 72, 36, 27, 28, 82, 35, 29, 55, 67, 70, 47, 86, 18, 83,\n",
       "       29, 63, 58, 35, 24, 87, 80, 74, 18, 27, 86, 83, 45, 78, 74, 60, 46,\n",
       "       44, 43, 48, 70, 78, 64, 70, 74, 37, 34, 84, 73, 82, 41, 29, 70, 53,\n",
       "       80, 32, 64, 56, 43, 79, 40, 24, 84, 43, 48, 56, 76, 24, 60, 84, 35,\n",
       "       81, 62, 49, 59, 42, 84, 22])"
      ]
     },
     "execution_count": 13,
     "metadata": {},
     "output_type": "execute_result"
    }
   ],
   "source": [
    "ages = np.random.randint(18, high=90, size=500)\n",
    "ages"
   ]
  },
  {
   "cell_type": "code",
   "execution_count": 14,
   "metadata": {
    "collapsed": false
   },
   "outputs": [
    {
     "data": {
      "text/plain": [
       "ModeResult(mode=array([67]), count=array([14]))"
      ]
     },
     "execution_count": 14,
     "metadata": {},
     "output_type": "execute_result"
    }
   ],
   "source": [
    "from scipy import stats\n",
    "stats.mode(ages)"
   ]
  },
  {
   "cell_type": "code",
   "execution_count": null,
   "metadata": {
    "collapsed": false
   },
   "outputs": [],
   "source": []
  }
 ],
 "metadata": {
  "kernelspec": {
   "display_name": "Python 3",
   "language": "python",
   "name": "python3"
  },
  "language_info": {
   "codemirror_mode": {
    "name": "ipython",
    "version": 3
   },
   "file_extension": ".py",
   "mimetype": "text/x-python",
   "name": "python",
   "nbconvert_exporter": "python",
   "pygments_lexer": "ipython3",
   "version": "3.4.3"
  }
 },
 "nbformat": 4,
 "nbformat_minor": 0
}
