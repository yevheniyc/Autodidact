{
 "cells": [
  {
   "cell_type": "markdown",
   "metadata": {
    "collapsed": true
   },
   "source": [
    "##Chapter 1 - Data Structures and Algorithms \n",
    "***\n",
    "\n",
    "###1.1 Unpacking a Sequence into Separate Variables:\n",
    "#####Problem:\n",
    "    Unpacking tuple/sequence into a collection of variables\n",
    "    \n",
    "#####Solution:\n",
    "    Any sequence/iterable can be unpacked into variables using an assignment operation. The number of variables and structure must match the number of sequence items:"
   ]
  },
  {
   "cell_type": "code",
   "execution_count": null,
   "metadata": {
    "collapsed": false
   },
   "outputs": [],
   "source": [
    "p = (4, 5, 6, 7)\n",
    "x, y, z, w = p # x -> 4\n",
    "\n",
    "data = ['ACME', 50, 91.1, (2012, 12, 21)] \n",
    "name, _, price, date = data # name -> 'ACME', data -> (2012, 12, 21)\n",
    "\n",
    "s = 'Hello'\n",
    "a, b, c, d, e = s # a -> H\n",
    "\n",
    "p = (4, 5)\n",
    "x, y, z = p # \"ValueError\""
   ]
  },
  {
   "cell_type": "markdown",
   "metadata": {},
   "source": [
    "***"
   ]
  },
  {
   "cell_type": "markdown",
   "metadata": {},
   "source": [
    "###1.2 Unpacking Elements from Iterables of Arbitrary Length:\n",
    "#####Problem:\n",
    "    Unpacking unknown number of elements in tuple/sequence/iterables into variables\n",
    "    \n",
    "#####Solution:\n",
    "    Use \"star expressions\" for handling multiples:"
   ]
  },
  {
   "cell_type": "code",
   "execution_count": null,
   "metadata": {
    "collapsed": true
   },
   "outputs": [],
   "source": [
    "def drop_first_last(grades):\n",
    "    \"\"\" Drop first and last exams, then average the rest. \"\"\"\n",
    "    first, *middle, last = grades\n",
    "    return avg(middle)\n",
    "\n",
    "def arbitrary_numbers():\n",
    "    \"\"\" Name and email followed by phone number(s). \"\"\"\n",
    "    record = ('Dave', 'dave@example.com', '555-555-5555', '555-555-5544')\n",
    "    name, email, *phone_numbers = record # phone_number always a list\n",
    "    return phone_numbers\n",
    "\n",
    "def recent_to_first_n():\n",
    "    \"\"\" Most recent quarter compares to the average of the first n. \"\"\"\n",
    "    sales_records = ('23.444', '234.23', '0', 23.12, '15.56')\n",
    "    *trailing_qtrs, current_qtr = sales_record\n",
    "    trailing_avg = sum(trailing_qtrs) / len(trailing_qtrs)\n",
    "    return avg_comparison(trailing_avg, current_qtr)"
   ]
  },
  {
   "cell_type": "markdown",
   "metadata": {},
   "source": [
    "#####Discussion:\n",
    "This is often implemented with iterables of unknown(arbitrary) length, and known pattern: \"everything after element 1 is a number\".\n",
    "\n",
    "1. Handy when iterating over a sequence of tuples of varying length or of tagged tuples.\n",
    "2. Handy when unpacking with string processing operations\n",
    "3. Handy when unpacking and throwing away some variables\n",
    "4. Handly when spliting a list into head and tail components, which could be used to implement recursive solutions."
   ]
  },
  {
   "cell_type": "code",
   "execution_count": null,
   "metadata": {
    "collapsed": false
   },
   "outputs": [],
   "source": [
    "####### 1 ##############\n",
    "records = [ ('foo', 1, 2), ('bar', 'hello'), ('foo', 3, 4) ]\n",
    "def do_foo(x, y):\n",
    "    print('foo', x, y)\n",
    "    \n",
    "def do_bar(s):\n",
    "    print('bar', s)\n",
    "    \n",
    "for tag, *args in records:\n",
    "    if tag == 'foo':\n",
    "        do_foo(*args)\n",
    "    elif tag == 'bar':\n",
    "        do_bar(*args)\n",
    "#########################\n",
    "\n",
    "######## 2 ##############\n",
    "line = 'nobody:*:-2:-2:Unprivileged User:/var/empty:/usr/bin/false'\n",
    "uname, *fields, homedir, sh = line.split(':') # uname -> nobody\n",
    "#########################\n",
    "\n",
    "######### 3 #############\n",
    "record = ('ACME', 50, 123, 45, (12, 18, 2012))\n",
    "name, *_, (*_, year) = record # name and year\n",
    "#########################\n",
    "\n",
    "######### 4 #############\n",
    "def sum(items):\n",
    "    \"\"\" Recursions are not recommended w/ Python. \"\"\"\n",
    "    head, *tail = items\n",
    "    return head + sum(*tail) if tail else head\n",
    "#########################"
   ]
  },
  {
   "cell_type": "markdown",
   "metadata": {},
   "source": [
    "***"
   ]
  },
  {
   "cell_type": "markdown",
   "metadata": {},
   "source": [
    "###1.3 Keeping the Last N Items (in list queue with deque):\n",
    "#####Problem:\n",
    "    Keep a limited history of the last few items seen during iteration or processing.\n",
    "    \n",
    "#####Solution:\n",
    "    Use collections.deque: perform a simple text search on a sequence of lines and yield matching lines with previous N lines of conext when found:"
   ]
  },
  {
   "cell_type": "code",
   "execution_count": null,
   "metadata": {
    "collapsed": false
   },
   "outputs": [],
   "source": [
    "from collections import deque\n",
    "\n",
    "def search(lines, pattern, history=5):\n",
    "    \"\"\" Returns a line that matches the pattern and 5 previous lines\"\"\"\n",
    "    previous_lines = deque(maxlen=history) # a generator of a list with max length\n",
    "    for line in lines:\n",
    "        if pattern in line:\n",
    "            yield line, previous_lines\n",
    "        previous_lines.append(line)\n",
    "        \n",
    "# Example use on a file\n",
    "if __name__ == '__main__':\n",
    "    with open('somefile.txt') as f:\n",
    "        for line, prevlines in search(f, 'python', 5):\n",
    "            for pline in prevlines:\n",
    "                print(pline, end='')\n",
    "            print(line, end='')\n",
    "            print('-' * 20)"
   ]
  },
  {
   "cell_type": "markdown",
   "metadata": {},
   "source": [
    "    \n",
    "Generator functions (with yield) are common when searching for items. This decouples the process of searching from the code that uses results:\n",
    "\n",
    "1. deque(maxlen=5) uses  fixed-size queue; although we could append/delete items from a list, this is more elegant/faster\n",
    "2. Handly when a simple queue structure is needed; without maxlen, use pop/append\n",
    "3. Popping/appending/popleft/appendleft has O(1) vs O(N) complexity"
   ]
  },
  {
   "cell_type": "code",
   "execution_count": null,
   "metadata": {
    "collapsed": true
   },
   "outputs": [],
   "source": [
    "######## 1, 2, 3 ########\n",
    "q = deque(maxlen=3)\n",
    "q.append(1)\n",
    "q.appendleft(4)\n",
    "q.pop() # 1\n",
    "q.popleft() # 4\n",
    "#########################"
   ]
  },
  {
   "cell_type": "markdown",
   "metadata": {},
   "source": [
    "***"
   ]
  },
  {
   "cell_type": "markdown",
   "metadata": {},
   "source": [
    "###1.4 Finding the Largest or Smallest N Items\n",
    "\n",
    "#####Problem:\n",
    "    Make a list of the largest or smallest N items in a collection.\n",
    "    \n",
    "#####Solution:\n",
    "    The heapq module has nlargest() and nsmallest()"
   ]
  },
  {
   "cell_type": "code",
   "execution_count": null,
   "metadata": {
    "collapsed": false
   },
   "outputs": [],
   "source": [
    "import heapq\n",
    "\n",
    "nums = [1, 8, 2, 23, 7, -4, 18, 23, 42, 37, 2]\n",
    "print(heapq.nlargest(3, nums))  # [42, 37 ,23]\n",
    "print(heapq.nsmallest(3, nums)) # [-4, 1, 2]\n",
    "heap.heappop(nums) # -4\n",
    "\n",
    "# use key parameter to use with complicated data structures\n",
    "portfolio = [\n",
    "    {'name': 'IBM', 'shares': 100, 'price': 91.1},\n",
    "    {'name': 'AAPL', 'shares': 50, 'price': 543.22},\n",
    "    {'name': 'FB', 'shares': 200, 'price': 21.09},\n",
    "    {'name': 'HPQ', 'shares': 35, 'price': 31.75},\n",
    "    {'name': 'YHOO', 'shares': 45, 'price': 16.35},\n",
    "    {'name': 'ACME', 'shares': 75, 'price': 115.65}\n",
    "]\n",
    "    \n",
    "cheap = heapq.nsmallest(3, portfolio, key=lambda s: s['price'])\n",
    "expensive = heapq.nlargest(3, portfolio, key=lambda s: s['price'])\n",
    "\n",
    "# if N is close to the size of the items:\n",
    "sorted(nums)[:N] # a better approach"
   ]
  },
  {
   "cell_type": "markdown",
   "metadata": {},
   "source": [
    "#####Discussion\n",
    "    When looking for N smallest/largest numbers, heapq provides superior performance. heap[0] is always the smallest number. Structures are converted into a list where items are ordered as a heap (underneath). "
   ]
  },
  {
   "cell_type": "markdown",
   "metadata": {},
   "source": [
    "***"
   ]
  },
  {
   "cell_type": "markdown",
   "metadata": {},
   "source": [
    "###1.5 Implementing a Priority Queue\n",
    "\n",
    "#####Problem:\n",
    "    Implement a queue that sorts items by a given priority and always returns the item with the highest priority on each pop operations. \n",
    "    \n",
    "#####Solution:\n",
    "    Use heapq to implement a simple priority queue"
   ]
  },
  {
   "cell_type": "code",
   "execution_count": null,
   "metadata": {
    "collapsed": false
   },
   "outputs": [],
   "source": [
    "import heapq\n",
    "\n",
    "class PriorityQueue:\n",
    "    def __init__(self):\n",
    "        self._queue = []\n",
    "        self._index = 0\n",
    "        \n",
    "    def __repr__(self):\n",
    "        return 'PriorityQueue({}) with index({})'.format(self._queue, self._index)\n",
    "        \n",
    "    def push(self, item, priority):\n",
    "        heapq.heappush(self._queue, (-priority, self._index, item)) # heappush(list, ())\n",
    "        self._index += 1\n",
    "        \n",
    "    def pop(self):\n",
    "        return heapq.heappop(self._queue)[-1] # self_queue includes [(priority, index, item)] \n",
    "    \n",
    "class Item:\n",
    "    def __init__(self, name):\n",
    "        self.name = name\n",
    "        \n",
    "    def __repr__(self):\n",
    "        return 'Item({!r})'.format(self.name)\n",
    "    \n",
    "q = PriorityQueue()\n",
    "print(q)\n",
    "q.push(Item('foo'), 1)\n",
    "print(q)\n",
    "q.push(Item('bar'), 5)\n",
    "print(q)\n",
    "q.push(Item('spam'), 4)\n",
    "print(q)\n",
    "q.push(Item('grok'), 1)\n",
    "print(q)\n",
    "q.pop() # -> Item('bar')\n",
    "print(q)\n",
    "q.pop() # -> Item('spam')\n",
    "print(q)\n",
    "q.pop() # -> Item('foo')\n",
    "print(q)\n",
    "q.pop() # -> Item('grok')\n",
    "print(q)\n",
    "\n",
    "# foo and grok were popped in the same order in which they were inserted"
   ]
  },
  {
   "cell_type": "markdown",
   "metadata": {},
   "source": [
    "#####Discussion:\n",
    "This recipe focuses on the use of heapq module. Functions heapq.heappush() and heapq.heappop() insert and remove items from a list _queue so that the first item in the list has the highest priority.\n",
    "\n",
    "1. heappop() and heappush() have O(log N) complexity\n",
    "2. a queue consists of tuples (-priority, index, item); priority is negated so that to add items with the highest priority to the beginning of the _queue\n",
    "3. index value is used to properly order items with the same priority; index also works for comparison operations:\n",
    "    - By introducing the extra index and making (priority, index, item) tuples, you avoid this problem entirely since no two tuples will ever have the same value for index (and Python never bothers to compare the remaining tuple values once the result of com‐ parison can be determined)::\n",
    "            \n",
    "        - a = (1, 0, Item('foo'))\n",
    "        - b = (5, 1, Item('bar'))\n",
    "        - c = (1, 2, Item('grok'))\n",
    "        - a < b # True\n",
    "        - a < c # True\n",
    "                \n",
    "4. we can use this queue for communication between threads, but we will need to add appropriate locking and signaling (look ahead)"
   ]
  },
  {
   "cell_type": "markdown",
   "metadata": {},
   "source": [
    "***"
   ]
  },
  {
   "cell_type": "markdown",
   "metadata": {},
   "source": [
    "###1.6 Mapping Keys to Multiple Values in a Dictionary\n",
    "\n",
    "#####Problem:\n",
    "    Make a dictionary that maps keys to more than one value (multidict)\n",
    "    \n",
    "#####Solution:\n",
    "A dictionary is a mapping where each key is mapped to a single value. When mapping keys to multiple values, we need to store multiple values in a different container: list or set. \n",
    "\n",
    "1. Use lists to preserve the insertion order of the items\n",
    "2. Use sets to eliminate duplicates (when we don't care about the order)\n",
    "3. Use defaultdict in the collections to construct such structure:\n",
    "    - defaultdict automatically initializes the first value of the key\n",
    "    - defaultdict automatically adds default values later on when accessing dictionary\n",
    "    - if we don't want the above behavior, use setdefault (it is messier however)"
   ]
  },
  {
   "cell_type": "code",
   "execution_count": 15,
   "metadata": {
    "collapsed": true
   },
   "outputs": [],
   "source": [
    "from collections import defaultdict\n",
    "\n",
    "d = defaultdict(list) # multiple values will be added to a list\n",
    "d['a'].append(1)\n",
    "d['a'].append(2)\n",
    "d['b'].append(4)\n",
    "\n",
    "d = defaultdict(set) # multiple values will be added to a set\n",
    "d['a'].add(1)\n",
    "d['b'].add(2)\n",
    "d['a'].add(5)\n",
    "\n",
    "# Messier setdefault\n",
    "d = {}\n",
    "d.setdefault('a', []).append(1)\n",
    "d.setdefault('a', []).append(2) # will add to the existing list\n",
    "\n",
    "# Even messier\n",
    "d = {}\n",
    "for key, value in paiers:\n",
    "    if key not in d:\n",
    "        d[key] = []\n",
    "    d[key].append(value)\n",
    "    \n",
    "# Best!\n",
    "d = defaultdict(list)\n",
    "for key, value in pairs:\n",
    "    d[key].append(value)"
   ]
  },
  {
   "cell_type": "markdown",
   "metadata": {},
   "source": [
    "***"
   ]
  },
  {
   "cell_type": "markdown",
   "metadata": {},
   "source": [
    "###1.7 Keepping Dictionaries in Order\n",
    "\n",
    "#####Problem:\n",
    "    Control the order of items in a dictionary when iterating or serializing\n",
    "    \n",
    "#####Solution:\n",
    "    Use OrderedDict from the collections to control dictionary order. It is particularly useful when building a mapping that later will be serialized or encoded into a different format. For example, when controlling the order of fields appearing in a JSON encoding, first build the data in OrderedDict and then json dump."
   ]
  },
  {
   "cell_type": "code",
   "execution_count": null,
   "metadata": {
    "collapsed": true
   },
   "outputs": [],
   "source": [
    "from collections import OrderedDict\n",
    "\n",
    "d = OrderedDict()\n",
    "d['foo'] = 1\n",
    "d['bar'] = 2\n",
    "d['spam'] = 3\n",
    "d['grok'] = 4\n",
    "\n",
    "for key in d:\n",
    "    print(key, d[key]) # -> 'foo 1', 'bar 2', 'spam 3', 'grok 4'\n",
    "    \n",
    "# Use when serializing JSON\n",
    "import json\n",
    "json.dumps(d) # -> '{\"foo\": 1, \"bar\": 2, \"spam\": 3, \"grok\": 4}'"
   ]
  },
  {
   "cell_type": "markdown",
   "metadata": {},
   "source": [
    "#####Discussion:\n",
    "An OrderedDict is an expensive procedure - beware for items exceeding 100000 lines:\n",
    "\n",
    "1. internally maintains a doubly linked list that orders the keys according to insertion order; when a new item is first inserted, it is placed at the end of this list; subsequent reassignment of an existing key doesn't change the order. \n",
    "2. be aware that the size of OrderedDict is more than twice as large as a normal dictionary due to the extra linked list that's created.\n",
    "3. if building a data structure involving a large number of OrderedDict instances (> 100000 lines of CSV file into a list of OrderedDict instances) be careful!"
   ]
  },
  {
   "cell_type": "markdown",
   "metadata": {},
   "source": [
    "***"
   ]
  },
  {
   "cell_type": "markdown",
   "metadata": {
    "collapsed": true
   },
   "source": [
    "###1.8 Calculating with Dictionaries\n",
    "\n",
    "#####Problem: \n",
    "    Performing various calculations (min, max, sort) on a dictionary\n",
    "    \n",
    "#####Solution:\n",
    "    Reverse keys and values, then perform a calculation function on the zip result.\n",
    "    Important:\n",
    "        1. max/min/sort is performed on the keys\n",
    "        2. if the keys are the same, max/min/sort is then based on the values\n",
    "        3. zip creates an iterator, which can only be consumed once"
   ]
  },
  {
   "cell_type": "code",
   "execution_count": null,
   "metadata": {
    "collapsed": false
   },
   "outputs": [],
   "source": [
    "prices = {\n",
    "    'ACME': 45.23,\n",
    "    'AAPL': 612.78,\n",
    "    'IBM': 205.55,\n",
    "    'HPQ': 37.20,\n",
    "    'FB': 10.75\n",
    "}\n",
    "\n",
    "# to get calculated values first reverse and zip\n",
    "min_price = min(zip(prices.values(), prices.keys())) # (10.75, 'FB')\n",
    "max_price = max(zip(prices.values(), prices.keys())) # (612.78, 'AAPL')\n",
    "\n",
    "# to rank the data use zip with sorted\n",
    "prices_sorted = sorted(zip(prices.values(), prices.keys())) # [(10.75, 'FB'), (37.2, 'HPQ')...]\n",
    "\n",
    "# the iterator can be consumed only once\n",
    "prices_and_names = zip(prices.values(), prices.keys())\n",
    "print(min(prices_and_names)) # result OK\n",
    "print(max(prices_and_names)) # ValueError: max() arg is an empty sequence\n"
   ]
  },
  {
   "cell_type": "markdown",
   "metadata": {},
   "source": [
    "#####Discussion:\n",
    "1. Common reductions on a dicitionary process the keys and not the values\n",
    "2. This is not (probably) what you want, as usually calcualtions are performed on values\n",
    "3. In addition to a value result, we often need to know the corresponding key\n",
    "4. That is why the zip solution works really well and not too clunky\n",
    "5. As noted before, if the values in (values, keys) are the same, the keys will be used\n",
    "6. For clear example on lambda functions and key attributes go to:\n",
    "    https://wiki.python.org/moin/HowTo/Sorting"
   ]
  },
  {
   "cell_type": "code",
   "execution_count": null,
   "metadata": {
    "collapsed": false
   },
   "outputs": [],
   "source": [
    "#### 1 #############\n",
    "min(prices) # 'AAPL'\n",
    "max(prices) # 'IBM'\n",
    "\n",
    "#### 2 ############\n",
    "min(prices.values()) # 10.75\n",
    "max(prices.values()) # 612.78\n",
    "\n",
    "#### 3 ############\n",
    "min(prices, key=lambda k: prices[k]) # 'FB'\n",
    "max(prices, key=lambda k: prices[k]) # 'AAPL' -> perfrom calculation on values and return key\n",
    "# to get the value as well as the key, additionally: \n",
    "min_key = min(prices, key=lambda k: prices[k])\n",
    "min_value = prices[min(prices, key=lambda k: prices[k])]\n",
    "\n",
    "#### 4, 5 #########\n",
    "prices = { 'AAA' : 45.23, 'ZZZ': 45.23 }\n",
    "min(zip(prices.values(), prices.keys())) # (45.23, 'AAA')\n",
    "max(zip(prices.values(), prices.keys())) # (45.23, 'ZZZ')\n"
   ]
  },
  {
   "cell_type": "markdown",
   "metadata": {},
   "source": [
    "***"
   ]
  },
  {
   "cell_type": "markdown",
   "metadata": {},
   "source": [
    "###1.9 Finding Commonalities in Two Dictionaries\n",
    "\n",
    "#####Problem:\n",
    "    Find out what two different dictionaries have in common (keys, values, etc.)\n",
    "    \n",
    "#####Solution:\n",
    "    Perfrom common set operations using the keys() or items() methods"
   ]
  },
  {
   "cell_type": "code",
   "execution_count": 4,
   "metadata": {
    "collapsed": false
   },
   "outputs": [],
   "source": [
    "a={\n",
    "    'x' : 1,\n",
    "    'y' : 2,\n",
    "    'z' : 3 \n",
    "}\n",
    "\n",
    "b={\n",
    "    'w' : 10,\n",
    "    'x' : 11,\n",
    "    'y' : 2 \n",
    "}\n",
    "\n",
    "# find keys in common\n",
    "a.keys() & b.keys() # {'x', 'y'}\n",
    "\n",
    "# find keys in a that are not in b\n",
    "a.keys() - b.keys() # {'z'}\n",
    "\n",
    "# find (key, value) pairs in common\n",
    "a.items() & b.items() # {('y', 2)}\n",
    "\n",
    "# alter/filter dictionary contents - make a new dict with selected keys removed\n",
    "c = { key: a[key] for key in a.keys() - {'z', 'w'}} # {'x': 1, 'y': 2}"
   ]
  },
  {
   "cell_type": "markdown",
   "metadata": {},
   "source": [
    "#####Discussion:\n",
    "1. The keys() method of a dictionary returns a keys-view object that exposes the keys. Key views support set operations: unions, intersections, and differences.\n",
    "\n",
    "2. The items() method of a dictionary returns an items-view object consisting of (key, value) pairs. This object supports similar set operations and can be used to perform operations such as finding out which key-value pairs two dictionaries have in common.\n",
    "\n",
    "3. Although similar, the values() method of a dictionary does not support the set oper‐ ations described in this recipe. In part, this is due to the fact that unlike keys, the items contained in a values view aren’t guaranteed to be unique. However, if you must perform such calculations, they can be accomplished by simply converting the values to a set first."
   ]
  },
  {
   "cell_type": "markdown",
   "metadata": {},
   "source": [
    "***"
   ]
  },
  {
   "cell_type": "markdown",
   "metadata": {},
   "source": [
    "###1.10 Removing Duplicates form a Sequence while Maintaining Order\n",
    "\n",
    "#####Problem:\n",
    "Eliminate the duplicate values in a sequence, but preserve the order\n",
    "\n",
    "#####Solution:\n",
    "1. If the values in the sequence are hashable (preserver order), use a set and a generator.\n",
    "2. If a sequence consists of unhashable types (dicts) use the key/lambda combo\n",
    "3. The key/lambda combo also works well when eliminating duplicates based on the values of a single field, attribute, or a larger data structure\n",
    "4. For an amazing explanation of iterables, iterators, generators and yield:\n",
    "    http://stackoverflow.com/questions/231767/what-does-the-yield-keyword-do-in-python"
   ]
  },
  {
   "cell_type": "code",
   "execution_count": null,
   "metadata": {
    "collapsed": false
   },
   "outputs": [],
   "source": [
    "###### 1 #########\n",
    "def dedupe(items):\n",
    "    ''' Add a unique item to the seen, and then check agains seen.'''\n",
    "    seen = set()\n",
    "    for item in items:\n",
    "        if item not in seen:\n",
    "            yield item\n",
    "            seen.add(item)\n",
    "            \n",
    "a = [1, 5, 2, 1, 9, 1, 5, 10]\n",
    "list(dedupe(a)) # [1, 5, 2, 9, 10]\n",
    "\n",
    "##### 2 ##########\n",
    "def dedupe(items, key=None): # key is similar to min/max/sorted\n",
    "    ''' Purpose of the key argument is to specify a function(lambda)\n",
    "        that converts sequence items into a hashable type for the\n",
    "        purposes of duplicate detection.\n",
    "    '''\n",
    "    seen = set()\n",
    "    for item in items:\n",
    "        val = item if key is None else key(item) # key could be lambda of values, keys, etc.\n",
    "        if val not in seen:\n",
    "            yield item\n",
    "            seen.add(val)\n",
    "            \n",
    "a = [ {'x':1, 'y':2}, {'x':1, 'y':3}, {'x':1, 'y':2}, {'x':2, 'y':4}]\n",
    "# remove duplicates based on x/y values\n",
    "list(dedupe(a, key=lambda d: (d['x'], d['y']))) # [{'x': 1, 'y': 2}, {'x': 1, 'y': 3}, {'x': 2, 'y': 4}]\n",
    "\n",
    "##### 3 #########\n",
    "# remove duplicates based on x values - for each item in \"a\" sequence execute the lambda function\n",
    "list(dedupe(a, key=lambda d: d['x'])) # [{'x': 1, 'y': 2}, {'x': 2, 'y': 4}]"
   ]
  },
  {
   "cell_type": "markdown",
   "metadata": {},
   "source": [
    "#####Discussion:\n",
    "1. To eliminate duplicates without preserving an order use a set\n",
    "2. The generator functions allows us to be extremely general purpose: not only tied to list processing, but also to file"
   ]
  },
  {
   "cell_type": "code",
   "execution_count": null,
   "metadata": {
    "collapsed": false
   },
   "outputs": [],
   "source": [
    "# let's eliminate duplicate lines from a file using the dedupe(items, key=None) generator\n",
    "with open('somefile.txt', 'r') as f:\n",
    "    # the generator will spit out a single value (line) at a time, \n",
    "    # while keeping track (a pointer) to where it is located during each yield\n",
    "    for line in dedupe(f):\n",
    "        # process unique lines\n",
    "        pass\n"
   ]
  },
  {
   "cell_type": "markdown",
   "metadata": {},
   "source": [
    "***"
   ]
  },
  {
   "cell_type": "code",
   "execution_count": null,
   "metadata": {
    "collapsed": true
   },
   "outputs": [],
   "source": []
  }
 ],
 "metadata": {
  "kernelspec": {
   "display_name": "Python 3",
   "language": "python",
   "name": "python3"
  },
  "language_info": {
   "codemirror_mode": {
    "name": "ipython",
    "version": 3
   },
   "file_extension": ".py",
   "mimetype": "text/x-python",
   "name": "python",
   "nbconvert_exporter": "python",
   "pygments_lexer": "ipython3",
   "version": "3.4.3"
  }
 },
 "nbformat": 4,
 "nbformat_minor": 0
}
