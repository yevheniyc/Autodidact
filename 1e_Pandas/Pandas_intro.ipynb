{
 "cells": [
  {
   "cell_type": "markdown",
   "metadata": {},
   "source": [
    "#####Intro to Pandas\n",
    "***\n",
    "Following [this](http://pandas.pydata.org/pandas-docs/stable/10min.html) tutorial."
   ]
  },
  {
   "cell_type": "code",
   "execution_count": 20,
   "metadata": {
    "collapsed": true
   },
   "outputs": [],
   "source": [
    "# Imports\n",
    "import pandas as pd\n",
    "import numpy as np\n",
    "import matplotlib.pyplot as plt\n",
    "\n",
    "# Convenience imports\n",
    "from IPython.display import display # display(your_stuff)"
   ]
  },
  {
   "cell_type": "markdown",
   "metadata": {},
   "source": [
    "#####Object Creation\n",
    "***"
   ]
  },
  {
   "cell_type": "code",
   "execution_count": 21,
   "metadata": {
    "collapsed": false
   },
   "outputs": [
    {
     "data": {
      "text/plain": [
       "0     1\n",
       "1     3\n",
       "2     5\n",
       "3   NaN\n",
       "4     6\n",
       "5     8\n",
       "dtype: float64"
      ]
     },
     "execution_count": 21,
     "metadata": {},
     "output_type": "execute_result"
    }
   ],
   "source": [
    "# Create a Series\n",
    "s = pd.Series([1, 3, 5, np.nan, 6, 8])\n",
    "s"
   ]
  },
  {
   "cell_type": "code",
   "execution_count": 28,
   "metadata": {
    "collapsed": false
   },
   "outputs": [
    {
     "data": {
      "text/plain": [
       "DatetimeIndex(['2013-01-01', '2013-01-02', '2013-01-03', '2013-01-04',\n",
       "               '2013-01-05', '2013-01-06'],\n",
       "              dtype='datetime64[ns]', freq='D', tz=None)"
      ]
     },
     "metadata": {},
     "output_type": "display_data"
    },
    {
     "data": {
      "text/plain": [
       "array([[ 1.01461626,  0.90713026, -1.31882102, -1.28262518],\n",
       "       [-0.29282161, -0.60469734,  0.29277958,  1.83001052],\n",
       "       [-0.96803134, -2.51369681, -1.48004624,  0.23880916],\n",
       "       [-0.94046969, -0.43920537,  1.23091556, -0.34015811],\n",
       "       [ 1.2542869 ,  0.30401143,  1.11417919,  1.51802581],\n",
       "       [-1.79681368, -0.8144957 , -2.932213  , -0.04210498]])"
      ]
     },
     "metadata": {},
     "output_type": "display_data"
    },
    {
     "data": {
      "text/html": [
       "<div style=\"max-height:1000px;max-width:1500px;overflow:auto;\">\n",
       "<table border=\"1\" class=\"dataframe\">\n",
       "  <thead>\n",
       "    <tr style=\"text-align: right;\">\n",
       "      <th></th>\n",
       "      <th>A</th>\n",
       "      <th>B</th>\n",
       "      <th>C</th>\n",
       "      <th>D</th>\n",
       "    </tr>\n",
       "  </thead>\n",
       "  <tbody>\n",
       "    <tr>\n",
       "      <th>2013-01-01</th>\n",
       "      <td>1.643279</td>\n",
       "      <td>-0.053740</td>\n",
       "      <td>0.041391</td>\n",
       "      <td>0.632955</td>\n",
       "    </tr>\n",
       "    <tr>\n",
       "      <th>2013-01-02</th>\n",
       "      <td>-0.352140</td>\n",
       "      <td>-1.244643</td>\n",
       "      <td>-0.258014</td>\n",
       "      <td>0.588093</td>\n",
       "    </tr>\n",
       "    <tr>\n",
       "      <th>2013-01-03</th>\n",
       "      <td>-0.319649</td>\n",
       "      <td>-1.092092</td>\n",
       "      <td>-1.076724</td>\n",
       "      <td>-0.462859</td>\n",
       "    </tr>\n",
       "    <tr>\n",
       "      <th>2013-01-04</th>\n",
       "      <td>0.324585</td>\n",
       "      <td>1.308598</td>\n",
       "      <td>0.026085</td>\n",
       "      <td>-0.950834</td>\n",
       "    </tr>\n",
       "    <tr>\n",
       "      <th>2013-01-05</th>\n",
       "      <td>1.412181</td>\n",
       "      <td>0.411211</td>\n",
       "      <td>1.487764</td>\n",
       "      <td>1.005027</td>\n",
       "    </tr>\n",
       "    <tr>\n",
       "      <th>2013-01-06</th>\n",
       "      <td>-1.779313</td>\n",
       "      <td>0.501028</td>\n",
       "      <td>0.177729</td>\n",
       "      <td>-0.265334</td>\n",
       "    </tr>\n",
       "  </tbody>\n",
       "</table>\n",
       "</div>"
      ],
      "text/plain": [
       "                   A         B         C         D\n",
       "2013-01-01  1.643279 -0.053740  0.041391  0.632955\n",
       "2013-01-02 -0.352140 -1.244643 -0.258014  0.588093\n",
       "2013-01-03 -0.319649 -1.092092 -1.076724 -0.462859\n",
       "2013-01-04  0.324585  1.308598  0.026085 -0.950834\n",
       "2013-01-05  1.412181  0.411211  1.487764  1.005027\n",
       "2013-01-06 -1.779313  0.501028  0.177729 -0.265334"
      ]
     },
     "metadata": {},
     "output_type": "display_data"
    }
   ],
   "source": [
    "# Create a DataFrame\n",
    "\n",
    "# create dates separated into periods - which are just days\n",
    "dates = pd.date_range('20130101', periods=6)\n",
    "display(dates)\n",
    "\n",
    "# create an arary: np.random.randn(6, 4) -> array(y, x) of random numbers\n",
    "display(np.random.randn(6, 4))\n",
    "\n",
    "# pd.DataFrame(row_values, index=row_names, columns=column_names)\n",
    "df = pd.DataFrame(np.random.randn(6, 4), index=dates, columns=list('ABCD'))\n",
    "display(df)"
   ]
  },
  {
   "cell_type": "code",
   "execution_count": 44,
   "metadata": {
    "collapsed": false
   },
   "outputs": [
    {
     "name": "stdout",
     "output_type": "stream",
     "text": [
      "Dictionary representation:\n"
     ]
    },
    {
     "data": {
      "text/plain": [
       "{'A': {0: 1.0, 1: 1.0, 2: 1.0, 3: 1.0},\n",
       " 'B': {0: Timestamp('2013-01-02 00:00:00'),\n",
       "  1: Timestamp('2013-01-02 00:00:00'),\n",
       "  2: Timestamp('2013-01-02 00:00:00'),\n",
       "  3: Timestamp('2013-01-02 00:00:00')},\n",
       " 'C': {0: 1.0, 1: 1.0, 2: 1.0, 3: 1.0},\n",
       " 'D': {0: 3, 1: 3, 2: 3, 3: 3},\n",
       " 'E': {0: 'test', 1: 'train', 2: 'test', 3: 'train'},\n",
       " 'F': {0: 'foo', 1: 'foo', 2: 'foo', 3: 'foo'}}"
      ]
     },
     "metadata": {},
     "output_type": "display_data"
    },
    {
     "name": "stdout",
     "output_type": "stream",
     "text": [
      "Data frame representation:\n"
     ]
    },
    {
     "data": {
      "text/html": [
       "<div style=\"max-height:1000px;max-width:1500px;overflow:auto;\">\n",
       "<table border=\"1\" class=\"dataframe\">\n",
       "  <thead>\n",
       "    <tr style=\"text-align: right;\">\n",
       "      <th></th>\n",
       "      <th>A</th>\n",
       "      <th>B</th>\n",
       "      <th>C</th>\n",
       "      <th>D</th>\n",
       "      <th>E</th>\n",
       "      <th>F</th>\n",
       "    </tr>\n",
       "  </thead>\n",
       "  <tbody>\n",
       "    <tr>\n",
       "      <th>0</th>\n",
       "      <td>1</td>\n",
       "      <td>2013-01-02</td>\n",
       "      <td>1</td>\n",
       "      <td>3</td>\n",
       "      <td>test</td>\n",
       "      <td>foo</td>\n",
       "    </tr>\n",
       "    <tr>\n",
       "      <th>1</th>\n",
       "      <td>1</td>\n",
       "      <td>2013-01-02</td>\n",
       "      <td>1</td>\n",
       "      <td>3</td>\n",
       "      <td>train</td>\n",
       "      <td>foo</td>\n",
       "    </tr>\n",
       "    <tr>\n",
       "      <th>2</th>\n",
       "      <td>1</td>\n",
       "      <td>2013-01-02</td>\n",
       "      <td>1</td>\n",
       "      <td>3</td>\n",
       "      <td>test</td>\n",
       "      <td>foo</td>\n",
       "    </tr>\n",
       "    <tr>\n",
       "      <th>3</th>\n",
       "      <td>1</td>\n",
       "      <td>2013-01-02</td>\n",
       "      <td>1</td>\n",
       "      <td>3</td>\n",
       "      <td>train</td>\n",
       "      <td>foo</td>\n",
       "    </tr>\n",
       "  </tbody>\n",
       "</table>\n",
       "</div>"
      ],
      "text/plain": [
       "   A          B  C  D      E    F\n",
       "0  1 2013-01-02  1  3   test  foo\n",
       "1  1 2013-01-02  1  3  train  foo\n",
       "2  1 2013-01-02  1  3   test  foo\n",
       "3  1 2013-01-02  1  3  train  foo"
      ]
     },
     "metadata": {},
     "output_type": "display_data"
    },
    {
     "name": "stdout",
     "output_type": "stream",
     "text": [
      "Check all data types:\n"
     ]
    },
    {
     "data": {
      "text/plain": [
       "A           float64\n",
       "B    datetime64[ns]\n",
       "C           float32\n",
       "D             int32\n",
       "E          category\n",
       "F            object\n",
       "dtype: object"
      ]
     },
     "metadata": {},
     "output_type": "display_data"
    }
   ],
   "source": [
    "# create dataframe from a dictionary - {col_name: values}\n",
    "#     >> np.array([[1, 2], [3, 4]], dtype=\"int32\"): \n",
    "#        array([[3, 3, 3, 3],\n",
    "#               [3, 3, 3, 3]], dtype=int32)\n",
    "df2 = pd.DataFrame({ 'A' : 1.,\n",
    "                     'B' : pd.Timestamp('20130102'),\n",
    "                     'C' : pd.Series(1,index=list(range(4)),dtype='float32'),\n",
    "                     'D' : np.array([3] * 4,dtype='int32'),\n",
    "                     'E' : pd.Categorical([\"test\",\"train\",\"test\",\"train\"]),\n",
    "                     'F' : 'foo' })\n",
    "\n",
    "print (\"Dictionary representation:\")\n",
    "display(df2.to_dict())\n",
    "\n",
    "print (\"Data frame representation:\")\n",
    "display(df2)\n",
    "\n",
    "print (\"Check all data types:\")\n",
    "display(df2.dtypes)"
   ]
  },
  {
   "cell_type": "markdown",
   "metadata": {},
   "source": [
    "#####Viewing Data\n",
    "***"
   ]
  },
  {
   "cell_type": "code",
   "execution_count": 52,
   "metadata": {
    "collapsed": false
   },
   "outputs": [
    {
     "name": "stdout",
     "output_type": "stream",
     "text": [
      "Display all data frame:\n"
     ]
    },
    {
     "data": {
      "text/html": [
       "<div style=\"max-height:1000px;max-width:1500px;overflow:auto;\">\n",
       "<table border=\"1\" class=\"dataframe\">\n",
       "  <thead>\n",
       "    <tr style=\"text-align: right;\">\n",
       "      <th></th>\n",
       "      <th>A</th>\n",
       "      <th>B</th>\n",
       "      <th>C</th>\n",
       "      <th>D</th>\n",
       "    </tr>\n",
       "  </thead>\n",
       "  <tbody>\n",
       "    <tr>\n",
       "      <th>2013-01-01</th>\n",
       "      <td>1.643279</td>\n",
       "      <td>-0.053740</td>\n",
       "      <td>0.041391</td>\n",
       "      <td>0.632955</td>\n",
       "    </tr>\n",
       "    <tr>\n",
       "      <th>2013-01-02</th>\n",
       "      <td>-0.352140</td>\n",
       "      <td>-1.244643</td>\n",
       "      <td>-0.258014</td>\n",
       "      <td>0.588093</td>\n",
       "    </tr>\n",
       "    <tr>\n",
       "      <th>2013-01-03</th>\n",
       "      <td>-0.319649</td>\n",
       "      <td>-1.092092</td>\n",
       "      <td>-1.076724</td>\n",
       "      <td>-0.462859</td>\n",
       "    </tr>\n",
       "    <tr>\n",
       "      <th>2013-01-04</th>\n",
       "      <td>0.324585</td>\n",
       "      <td>1.308598</td>\n",
       "      <td>0.026085</td>\n",
       "      <td>-0.950834</td>\n",
       "    </tr>\n",
       "    <tr>\n",
       "      <th>2013-01-05</th>\n",
       "      <td>1.412181</td>\n",
       "      <td>0.411211</td>\n",
       "      <td>1.487764</td>\n",
       "      <td>1.005027</td>\n",
       "    </tr>\n",
       "    <tr>\n",
       "      <th>2013-01-06</th>\n",
       "      <td>-1.779313</td>\n",
       "      <td>0.501028</td>\n",
       "      <td>0.177729</td>\n",
       "      <td>-0.265334</td>\n",
       "    </tr>\n",
       "  </tbody>\n",
       "</table>\n",
       "</div>"
      ],
      "text/plain": [
       "                   A         B         C         D\n",
       "2013-01-01  1.643279 -0.053740  0.041391  0.632955\n",
       "2013-01-02 -0.352140 -1.244643 -0.258014  0.588093\n",
       "2013-01-03 -0.319649 -1.092092 -1.076724 -0.462859\n",
       "2013-01-04  0.324585  1.308598  0.026085 -0.950834\n",
       "2013-01-05  1.412181  0.411211  1.487764  1.005027\n",
       "2013-01-06 -1.779313  0.501028  0.177729 -0.265334"
      ]
     },
     "metadata": {},
     "output_type": "display_data"
    },
    {
     "name": "stdout",
     "output_type": "stream",
     "text": [
      "Display top 2 rows:\n"
     ]
    },
    {
     "data": {
      "text/html": [
       "<div style=\"max-height:1000px;max-width:1500px;overflow:auto;\">\n",
       "<table border=\"1\" class=\"dataframe\">\n",
       "  <thead>\n",
       "    <tr style=\"text-align: right;\">\n",
       "      <th></th>\n",
       "      <th>A</th>\n",
       "      <th>B</th>\n",
       "      <th>C</th>\n",
       "      <th>D</th>\n",
       "    </tr>\n",
       "  </thead>\n",
       "  <tbody>\n",
       "    <tr>\n",
       "      <th>2013-01-01</th>\n",
       "      <td>1.643279</td>\n",
       "      <td>-0.053740</td>\n",
       "      <td>0.041391</td>\n",
       "      <td>0.632955</td>\n",
       "    </tr>\n",
       "    <tr>\n",
       "      <th>2013-01-02</th>\n",
       "      <td>-0.352140</td>\n",
       "      <td>-1.244643</td>\n",
       "      <td>-0.258014</td>\n",
       "      <td>0.588093</td>\n",
       "    </tr>\n",
       "  </tbody>\n",
       "</table>\n",
       "</div>"
      ],
      "text/plain": [
       "                   A         B         C         D\n",
       "2013-01-01  1.643279 -0.053740  0.041391  0.632955\n",
       "2013-01-02 -0.352140 -1.244643 -0.258014  0.588093"
      ]
     },
     "metadata": {},
     "output_type": "display_data"
    },
    {
     "name": "stdout",
     "output_type": "stream",
     "text": [
      "Display bottom 3 rows:\n"
     ]
    },
    {
     "data": {
      "text/html": [
       "<div style=\"max-height:1000px;max-width:1500px;overflow:auto;\">\n",
       "<table border=\"1\" class=\"dataframe\">\n",
       "  <thead>\n",
       "    <tr style=\"text-align: right;\">\n",
       "      <th></th>\n",
       "      <th>A</th>\n",
       "      <th>B</th>\n",
       "      <th>C</th>\n",
       "      <th>D</th>\n",
       "    </tr>\n",
       "  </thead>\n",
       "  <tbody>\n",
       "    <tr>\n",
       "      <th>2013-01-04</th>\n",
       "      <td>0.324585</td>\n",
       "      <td>1.308598</td>\n",
       "      <td>0.026085</td>\n",
       "      <td>-0.950834</td>\n",
       "    </tr>\n",
       "    <tr>\n",
       "      <th>2013-01-05</th>\n",
       "      <td>1.412181</td>\n",
       "      <td>0.411211</td>\n",
       "      <td>1.487764</td>\n",
       "      <td>1.005027</td>\n",
       "    </tr>\n",
       "    <tr>\n",
       "      <th>2013-01-06</th>\n",
       "      <td>-1.779313</td>\n",
       "      <td>0.501028</td>\n",
       "      <td>0.177729</td>\n",
       "      <td>-0.265334</td>\n",
       "    </tr>\n",
       "  </tbody>\n",
       "</table>\n",
       "</div>"
      ],
      "text/plain": [
       "                   A         B         C         D\n",
       "2013-01-04  0.324585  1.308598  0.026085 -0.950834\n",
       "2013-01-05  1.412181  0.411211  1.487764  1.005027\n",
       "2013-01-06 -1.779313  0.501028  0.177729 -0.265334"
      ]
     },
     "metadata": {},
     "output_type": "display_data"
    }
   ],
   "source": [
    "# see the top & bottom rows of the frame\n",
    "print \"Display all data frame:\"\n",
    "display(df)\n",
    "\n",
    "print \"Display top 2 rows:\"\n",
    "display(df.head(2))\n",
    "\n",
    "print \"Display bottom 3 rows:\"\n",
    "display(df.tail(3))"
   ]
  },
  {
   "cell_type": "code",
   "execution_count": 66,
   "metadata": {
    "collapsed": false
   },
   "outputs": [
    {
     "data": {
      "text/plain": [
       "DatetimeIndex(['2013-01-01', '2013-01-02', '2013-01-03', '2013-01-04',\n",
       "               '2013-01-05', '2013-01-06'],\n",
       "              dtype='datetime64[ns]', freq='D', tz=None)"
      ]
     },
     "metadata": {},
     "output_type": "display_data"
    },
    {
     "data": {
      "text/plain": [
       "Index([u'A', u'B', u'C', u'D'], dtype='object')"
      ]
     },
     "metadata": {},
     "output_type": "display_data"
    },
    {
     "data": {
      "text/plain": [
       "array([[ 1.6432787 , -0.05373985,  0.0413913 ,  0.63295476],\n",
       "       [-0.35213996, -1.2446432 , -0.25801363,  0.58809293],\n",
       "       [-0.31964911, -1.092092  , -1.0767237 , -0.46285857],\n",
       "       [ 0.32458502,  1.30859832,  0.02608493, -0.95083353],\n",
       "       [ 1.41218055,  0.41121062,  1.48776372,  1.00502672],\n",
       "       [-1.77931259,  0.50102838,  0.17772897, -0.26533397]])"
      ]
     },
     "metadata": {},
     "output_type": "display_data"
    },
    {
     "data": {
      "text/html": [
       "<div style=\"max-height:1000px;max-width:1500px;overflow:auto;\">\n",
       "<table border=\"1\" class=\"dataframe\">\n",
       "  <thead>\n",
       "    <tr style=\"text-align: right;\">\n",
       "      <th></th>\n",
       "      <th>A</th>\n",
       "      <th>B</th>\n",
       "      <th>C</th>\n",
       "      <th>D</th>\n",
       "    </tr>\n",
       "  </thead>\n",
       "  <tbody>\n",
       "    <tr>\n",
       "      <th>count</th>\n",
       "      <td>6.000000</td>\n",
       "      <td>6.000000</td>\n",
       "      <td>6.000000</td>\n",
       "      <td>6.000000</td>\n",
       "    </tr>\n",
       "    <tr>\n",
       "      <th>mean</th>\n",
       "      <td>0.154824</td>\n",
       "      <td>-0.028273</td>\n",
       "      <td>0.066372</td>\n",
       "      <td>0.091175</td>\n",
       "    </tr>\n",
       "    <tr>\n",
       "      <th>std</th>\n",
       "      <td>1.268722</td>\n",
       "      <td>0.987162</td>\n",
       "      <td>0.830289</td>\n",
       "      <td>0.760975</td>\n",
       "    </tr>\n",
       "    <tr>\n",
       "      <th>min</th>\n",
       "      <td>-1.779313</td>\n",
       "      <td>-1.244643</td>\n",
       "      <td>-1.076724</td>\n",
       "      <td>-0.950834</td>\n",
       "    </tr>\n",
       "    <tr>\n",
       "      <th>25%</th>\n",
       "      <td>-0.344017</td>\n",
       "      <td>-0.832504</td>\n",
       "      <td>-0.186989</td>\n",
       "      <td>-0.413477</td>\n",
       "    </tr>\n",
       "    <tr>\n",
       "      <th>50%</th>\n",
       "      <td>0.002468</td>\n",
       "      <td>0.178735</td>\n",
       "      <td>0.033738</td>\n",
       "      <td>0.161379</td>\n",
       "    </tr>\n",
       "    <tr>\n",
       "      <th>75%</th>\n",
       "      <td>1.140282</td>\n",
       "      <td>0.478574</td>\n",
       "      <td>0.143645</td>\n",
       "      <td>0.621739</td>\n",
       "    </tr>\n",
       "    <tr>\n",
       "      <th>max</th>\n",
       "      <td>1.643279</td>\n",
       "      <td>1.308598</td>\n",
       "      <td>1.487764</td>\n",
       "      <td>1.005027</td>\n",
       "    </tr>\n",
       "  </tbody>\n",
       "</table>\n",
       "</div>"
      ],
      "text/plain": [
       "              A         B         C         D\n",
       "count  6.000000  6.000000  6.000000  6.000000\n",
       "mean   0.154824 -0.028273  0.066372  0.091175\n",
       "std    1.268722  0.987162  0.830289  0.760975\n",
       "min   -1.779313 -1.244643 -1.076724 -0.950834\n",
       "25%   -0.344017 -0.832504 -0.186989 -0.413477\n",
       "50%    0.002468  0.178735  0.033738  0.161379\n",
       "75%    1.140282  0.478574  0.143645  0.621739\n",
       "max    1.643279  1.308598  1.487764  1.005027"
      ]
     },
     "metadata": {},
     "output_type": "display_data"
    }
   ],
   "source": [
    "# display index (row_names), columns, and underlying numpy data\n",
    "display(df.index)\n",
    "\n",
    "display(df.columns)\n",
    "\n",
    "display(df.values) \n",
    "\n",
    "display(df.describe())"
   ]
  },
  {
   "cell_type": "code",
   "execution_count": 70,
   "metadata": {
    "collapsed": false
   },
   "outputs": [
    {
     "name": "stdout",
     "output_type": "stream",
     "text": [
      "Transpose (pivot) the data: \n"
     ]
    },
    {
     "data": {
      "text/html": [
       "<div style=\"max-height:1000px;max-width:1500px;overflow:auto;\">\n",
       "<table border=\"1\" class=\"dataframe\">\n",
       "  <thead>\n",
       "    <tr style=\"text-align: right;\">\n",
       "      <th></th>\n",
       "      <th>2013-01-01 00:00:00</th>\n",
       "      <th>2013-01-02 00:00:00</th>\n",
       "      <th>2013-01-03 00:00:00</th>\n",
       "      <th>2013-01-04 00:00:00</th>\n",
       "      <th>2013-01-05 00:00:00</th>\n",
       "      <th>2013-01-06 00:00:00</th>\n",
       "    </tr>\n",
       "  </thead>\n",
       "  <tbody>\n",
       "    <tr>\n",
       "      <th>A</th>\n",
       "      <td>1.643279</td>\n",
       "      <td>-0.352140</td>\n",
       "      <td>-0.319649</td>\n",
       "      <td>0.324585</td>\n",
       "      <td>1.412181</td>\n",
       "      <td>-1.779313</td>\n",
       "    </tr>\n",
       "    <tr>\n",
       "      <th>B</th>\n",
       "      <td>-0.053740</td>\n",
       "      <td>-1.244643</td>\n",
       "      <td>-1.092092</td>\n",
       "      <td>1.308598</td>\n",
       "      <td>0.411211</td>\n",
       "      <td>0.501028</td>\n",
       "    </tr>\n",
       "    <tr>\n",
       "      <th>C</th>\n",
       "      <td>0.041391</td>\n",
       "      <td>-0.258014</td>\n",
       "      <td>-1.076724</td>\n",
       "      <td>0.026085</td>\n",
       "      <td>1.487764</td>\n",
       "      <td>0.177729</td>\n",
       "    </tr>\n",
       "    <tr>\n",
       "      <th>D</th>\n",
       "      <td>0.632955</td>\n",
       "      <td>0.588093</td>\n",
       "      <td>-0.462859</td>\n",
       "      <td>-0.950834</td>\n",
       "      <td>1.005027</td>\n",
       "      <td>-0.265334</td>\n",
       "    </tr>\n",
       "  </tbody>\n",
       "</table>\n",
       "</div>"
      ],
      "text/plain": [
       "   2013-01-01  2013-01-02  2013-01-03  2013-01-04  2013-01-05  2013-01-06\n",
       "A    1.643279   -0.352140   -0.319649    0.324585    1.412181   -1.779313\n",
       "B   -0.053740   -1.244643   -1.092092    1.308598    0.411211    0.501028\n",
       "C    0.041391   -0.258014   -1.076724    0.026085    1.487764    0.177729\n",
       "D    0.632955    0.588093   -0.462859   -0.950834    1.005027   -0.265334"
      ]
     },
     "metadata": {},
     "output_type": "display_data"
    },
    {
     "name": "stdout",
     "output_type": "stream",
     "text": [
      "Sort the data: \n"
     ]
    },
    {
     "data": {
      "text/html": [
       "<div style=\"max-height:1000px;max-width:1500px;overflow:auto;\">\n",
       "<table border=\"1\" class=\"dataframe\">\n",
       "  <thead>\n",
       "    <tr style=\"text-align: right;\">\n",
       "      <th></th>\n",
       "      <th>D</th>\n",
       "      <th>C</th>\n",
       "      <th>B</th>\n",
       "      <th>A</th>\n",
       "    </tr>\n",
       "  </thead>\n",
       "  <tbody>\n",
       "    <tr>\n",
       "      <th>2013-01-01</th>\n",
       "      <td>0.632955</td>\n",
       "      <td>0.041391</td>\n",
       "      <td>-0.053740</td>\n",
       "      <td>1.643279</td>\n",
       "    </tr>\n",
       "    <tr>\n",
       "      <th>2013-01-02</th>\n",
       "      <td>0.588093</td>\n",
       "      <td>-0.258014</td>\n",
       "      <td>-1.244643</td>\n",
       "      <td>-0.352140</td>\n",
       "    </tr>\n",
       "    <tr>\n",
       "      <th>2013-01-03</th>\n",
       "      <td>-0.462859</td>\n",
       "      <td>-1.076724</td>\n",
       "      <td>-1.092092</td>\n",
       "      <td>-0.319649</td>\n",
       "    </tr>\n",
       "    <tr>\n",
       "      <th>2013-01-04</th>\n",
       "      <td>-0.950834</td>\n",
       "      <td>0.026085</td>\n",
       "      <td>1.308598</td>\n",
       "      <td>0.324585</td>\n",
       "    </tr>\n",
       "    <tr>\n",
       "      <th>2013-01-05</th>\n",
       "      <td>1.005027</td>\n",
       "      <td>1.487764</td>\n",
       "      <td>0.411211</td>\n",
       "      <td>1.412181</td>\n",
       "    </tr>\n",
       "    <tr>\n",
       "      <th>2013-01-06</th>\n",
       "      <td>-0.265334</td>\n",
       "      <td>0.177729</td>\n",
       "      <td>0.501028</td>\n",
       "      <td>-1.779313</td>\n",
       "    </tr>\n",
       "  </tbody>\n",
       "</table>\n",
       "</div>"
      ],
      "text/plain": [
       "                   D         C         B         A\n",
       "2013-01-01  0.632955  0.041391 -0.053740  1.643279\n",
       "2013-01-02  0.588093 -0.258014 -1.244643 -0.352140\n",
       "2013-01-03 -0.462859 -1.076724 -1.092092 -0.319649\n",
       "2013-01-04 -0.950834  0.026085  1.308598  0.324585\n",
       "2013-01-05  1.005027  1.487764  0.411211  1.412181\n",
       "2013-01-06 -0.265334  0.177729  0.501028 -1.779313"
      ]
     },
     "metadata": {},
     "output_type": "display_data"
    }
   ],
   "source": [
    "# take actions on the data\n",
    "print \"Transpose (pivot) the data: \"\n",
    "display(df.T)\n",
    "\n",
    "print \"Sort the data: \"\n",
    "display(df.sort_index(axis=1, ascending=False))"
   ]
  },
  {
   "cell_type": "code",
   "execution_count": null,
   "metadata": {
    "collapsed": true
   },
   "outputs": [],
   "source": []
  }
 ],
 "metadata": {
  "kernelspec": {
   "display_name": "Python 2",
   "language": "python",
   "name": "python2"
  },
  "language_info": {
   "codemirror_mode": {
    "name": "ipython",
    "version": 2
   },
   "file_extension": ".py",
   "mimetype": "text/x-python",
   "name": "python",
   "nbconvert_exporter": "python",
   "pygments_lexer": "ipython2",
   "version": "2.7.9"
  }
 },
 "nbformat": 4,
 "nbformat_minor": 0
}
